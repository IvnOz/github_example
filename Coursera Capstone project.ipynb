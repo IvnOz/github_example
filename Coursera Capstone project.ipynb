{
    "cells": [
        {
            "cell_type": "markdown",
            "metadata": {
                "collapsed": true
            },
            "source": "# Coursera Capstone Project. The Battle of Neighborhoods #"
        },
        {
            "cell_type": "markdown",
            "metadata": {},
            "source": "## New Restaurant in M\u00e9xico ##"
        },
        {
            "cell_type": "markdown",
            "metadata": {},
            "source": "### 1. Introduction ###"
        },
        {
            "cell_type": "markdown",
            "metadata": {},
            "source": "Quer\u00e9taro is a fastly growing city in M\u00e9xico. Every year, thousands of new residents move in because its fast economical growing rate, rise in cultural events, and and the projection to become a cosmopolitan city. This represents a perfect oportunity to new businesses to take advantage and grow importantly. \n\nThe culinary industry offers a great opportunity to invest, due to its importance and constant demand. Because of this, the purpose of this report is to show the best options to invest, creating a new restaurant in Quer\u00e9taro. It will help answer which type of restaurant has the best prospects and in which area it could be more profitable.\n\nIn order to accomplish this goal, we will have to analyze the main areas in Queretaro city, using its postal codes, to choose the \u00e1rea with fewer restaurants or a type of restaurant missing in the main city areas. \n"
        },
        {
            "cell_type": "markdown",
            "metadata": {},
            "source": "### 2. Data Section ###"
        },
        {
            "cell_type": "markdown",
            "metadata": {},
            "source": "We shall use postal codes information to divide the city into \"colonies\". These data will be obtained from the page: https://micodigopostal.org/queretaro/queretaro/. These information will be cleaned to create a data frame that will guide de data analysis. The data frame will contain information about the colony name, its postal code, and its coordinates (latitude and longitude), obtanined from geocoder. \n\nWe'll use Foursquare location data to obtain the venues information for the main areas of interest. They will be either the areas with fewer restaurants or the less frequent restaurants in the downtown area. Due to the greater proffitability of the downtown area, the main goal will be to determine which type of restaurant could be succesful in this area. \n\nBased on these Foursquare location data we are going to group the neighborhoods in clusters.Based on cluster's characteristics we are going to choose the neighborhood group that satisfies criteria of building a new restaurant, depending on the type of other restaurants nearby.\n\nFinally, We'll use folium library to create the necessary maps in order to improve the data presentation using visual aids for greater clarity for investors."
        },
        {
            "cell_type": "code",
            "execution_count": null,
            "metadata": {},
            "outputs": [],
            "source": ""
        }
    ],
    "metadata": {
        "kernelspec": {
            "display_name": "Python 3.6",
            "language": "python",
            "name": "python3"
        },
        "language_info": {
            "codemirror_mode": {
                "name": "ipython",
                "version": 3
            },
            "file_extension": ".py",
            "mimetype": "text/x-python",
            "name": "python",
            "nbconvert_exporter": "python",
            "pygments_lexer": "ipython3",
            "version": "3.6.9"
        }
    },
    "nbformat": 4,
    "nbformat_minor": 1
}